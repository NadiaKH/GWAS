{
 "cells": [
  {
   "cell_type": "code",
   "execution_count": null,
   "id": "f999adb0",
   "metadata": {},
   "outputs": [],
   "source": []
  },
  {
   "cell_type": "code",
   "execution_count": 1,
   "id": "5cc2e477",
   "metadata": {},
   "outputs": [],
   "source": [
    "import pandas as pd\n",
    "import numpy as np\n",
    "from scipy.stats import maxwell\n",
    "from numpy.random import lognormal, normal"
   ]
  },
  {
   "cell_type": "code",
   "execution_count": 2,
   "id": "bcd8e6b8",
   "metadata": {},
   "outputs": [],
   "source": [
    "import sciope.core as core\n",
    "import sciope.designs as designs\n",
    "import sciope.inference as inference\n",
    "import sciope.models as models\n",
    "import sciope.sampling as sampling\n",
    "import sciope.utilities as utilities\n",
    "import sciope.data as data\n",
    "import sciope.features as features\n",
    "import sciope.stochmet as stochmet\n",
    "import sciope.visualize as vizualize\n",
    "\n",
    "import xgboost\n",
    "from xgboost import XGBRegressor \n",
    "from sklearn.metrics import mean_squared_error as mse\n",
    "\n",
    "from matplotlib import pyplot as plt "
   ]
  },
  {
   "cell_type": "code",
   "execution_count": null,
   "id": "58fdd468",
   "metadata": {},
   "outputs": [],
   "source": []
  },
  {
   "cell_type": "code",
   "execution_count": 6,
   "id": "2aca73cb",
   "metadata": {},
   "outputs": [
    {
     "data": {
      "text/plain": [
       "'/home/nadia'"
      ]
     },
     "execution_count": 6,
     "metadata": {},
     "output_type": "execute_result"
    }
   ],
   "source": []
  },
  {
   "cell_type": "code",
   "execution_count": 20,
   "id": "a9e11ae3",
   "metadata": {},
   "outputs": [],
   "source": [
    "import re\n",
    "import os\n",
    "from os import listdir\n",
    "from os.path import isfile, join\n",
    "onlyfiles = [f for f in listdir(os.getcwd()) if isfile(join(os.getcwd(), f))]\n",
    "p = re.compile('^.*\\.model$')\n",
    "model_paths = [ s for s in onlyfiles if p.match(s) ]"
   ]
  },
  {
   "cell_type": "code",
   "execution_count": 22,
   "id": "870f099a",
   "metadata": {},
   "outputs": [
    {
     "data": {
      "text/plain": [
       "array(['xgb_2022-02-11 21:48:30.266066.model',\n",
       "       'xgb_2022-02-11 21:00:59.281731.model',\n",
       "       'xgb_2022-02-11 22:31:54.825717.model',\n",
       "       'xgb_2022-02-11 20:40:17.346288.model'], dtype='<U36')"
      ]
     },
     "execution_count": 22,
     "metadata": {},
     "output_type": "execute_result"
    }
   ],
   "source": [
    "model_paths = np.array(model_paths)[[0, 1, 2, 5]]\n",
    "model_paths"
   ]
  },
  {
   "cell_type": "code",
   "execution_count": 23,
   "id": "f46c0fd5",
   "metadata": {},
   "outputs": [],
   "source": [
    "models = [xgboost.Booster() for i in model_paths]\n",
    "for m, p in zip(models, model_paths):\n",
    "    m.load_model(p)\n",
    "    "
   ]
  },
  {
   "cell_type": "code",
   "execution_count": 14,
   "id": "71ae62f2",
   "metadata": {},
   "outputs": [],
   "source": [
    "soynam_test = pd.read_csv(\"soynam_test\")\n",
    "gen = pd.read_csv('~/Desktop/gen.csv', index_col='Unnamed: 0').fillna(4.0)\n"
   ]
  },
  {
   "cell_type": "code",
   "execution_count": 24,
   "id": "18760fa7",
   "metadata": {},
   "outputs": [],
   "source": [
    "results = []\n",
    "for m in models:\n",
    "    results.append(m.predict(xgboost.DMatrix(gen.loc[soynam_test.strain])))\n",
    "    \n"
   ]
  },
  {
   "cell_type": "code",
   "execution_count": 25,
   "id": "8b7acc89",
   "metadata": {},
   "outputs": [
    {
     "data": {
      "text/plain": [
       "[0.46141251284858736,\n",
       " 0.46500154783440756,\n",
       " 0.4589832025077449,\n",
       " 0.473304888248577]"
      ]
     },
     "execution_count": 25,
     "metadata": {},
     "output_type": "execute_result"
    }
   ],
   "source": [
    "RMSE = []\n",
    "R = []\n",
    "\n",
    "for r in results:\n",
    "    R.append(np.corrcoef(np.ravel(soynam_test.height), r)[0][1])\n",
    "    \n",
    "R"
   ]
  },
  {
   "cell_type": "code",
   "execution_count": 6,
   "id": "63479ab2",
   "metadata": {},
   "outputs": [],
   "source": [
    "def sort_by_importance(model):\n",
    "    d = model.get_score(importance_type='gain')\n",
    "    ordered = sorted(list(d), key = lambda x: d[x], reverse=True)\n",
    "    return [[f for f in ordered], [d[f] for f in ordered]]\n",
    "    \n",
    "importances = [sort_by_importance(m) for m in models]"
   ]
  },
  {
   "cell_type": "code",
   "execution_count": 7,
   "id": "dad0ea03",
   "metadata": {},
   "outputs": [
    {
     "data": {
      "text/plain": [
       "<StemContainer object of 3 artists>"
      ]
     },
     "execution_count": 7,
     "metadata": {},
     "output_type": "execute_result"
    },
    {
     "data": {
      "image/png": "[encoded data removed]",
      "text/plain": [
       "<Figure size 432x288 with 1 Axes>"
      ]
     },
     "metadata": {
      "needs_background": "light"
     },
     "output_type": "display_data"
    }
   ],
   "source": [
    "v = models[0].get_score(importance_type='gain').values()\n",
    "\n",
    "plt.stem(v,  markerfmt=' ')\n"
   ]
  },
  {
   "cell_type": "code",
   "execution_count": 27,
   "id": "2e71c793",
   "metadata": {},
   "outputs": [
    {
     "data": {
      "text/plain": [
       "{'f25': 14208.25,\n",
       " 'f122': 64741.0,\n",
       " 'f132': 40343.75,\n",
       " 'f173': 87796.0,\n",
       " 'f332': 73585.0,\n",
       " 'f377': 48001.0,\n",
       " 'f450': 53959.5,\n",
       " 'f470': 40735.0,\n",
       " 'f488': 85320.0,\n",
       " 'f551': 66532.0,\n",
       " 'f607': 47120.0,\n",
       " 'f682': 44186.0,\n",
       " 'f750': 42514.5,\n",
       " 'f768': 44155.0,\n",
       " 'f770': 61620.0,\n",
       " 'f772': 13351.4375,\n",
       " 'f976': 50510.0,\n",
       " 'f980': 49449.0,\n",
       " 'f1050': 67144.0,\n",
       " 'f1054': 17316.625,\n",
       " 'f1158': 30466.5,\n",
       " 'f1599': 27716.0,\n",
       " 'f1614': 66252.0,\n",
       " 'f1681': 24469.375,\n",
       " 'f1693': 35620.0,\n",
       " 'f1704': 38280.0,\n",
       " 'f1719': 76840.3359375,\n",
       " 'f1726': 60047.5,\n",
       " 'f1730': 70186.0,\n",
       " 'f2039': 49186.5,\n",
       " 'f2051': 92874.6640625,\n",
       " 'f2075': 20372.25,\n",
       " 'f2252': 39289.625,\n",
       " 'f2365': 35159.0,\n",
       " 'f2417': 66050.5,\n",
       " 'f2472': 80604.0,\n",
       " 'f2583': 95185.5546875,\n",
       " 'f2584': 162226.609375,\n",
       " 'f2952': 23836.25,\n",
       " 'f3140': 59252.0,\n",
       " 'f3262': 31756.0,\n",
       " 'f3288': 61050.0,\n",
       " 'f3291': 73127.0,\n",
       " 'f3293': 38520.0,\n",
       " 'f3297': 64868.0,\n",
       " 'f3331': 35297.0,\n",
       " 'f3339': 48866.75,\n",
       " 'f3348': 17291.5,\n",
       " 'f3383': 44430.0,\n",
       " 'f3695': 46546.0,\n",
       " 'f3696': 23433.0,\n",
       " 'f3850': 66261.5,\n",
       " 'f3975': 41530.0,\n",
       " 'f4039': 48343.0,\n",
       " 'f4082': 103174.0,\n",
       " 'f4201': 35892.0,\n",
       " 'f4362': 57494.0,\n",
       " 'f4370': 55942.0,\n",
       " 'f4487': 55448.0,\n",
       " 'f4629': 32506.25,\n",
       " 'f4640': 38283.25,\n",
       " 'f4660': 65144.80078125,\n",
       " 'f4747': 22003.0,\n",
       " 'f4754': 95602.953125,\n",
       " 'f4755': 96968.0,\n",
       " 'f4761': 78644.0,\n",
       " 'f4764': 101930.8359375,\n",
       " 'f4765': 87842.5,\n",
       " 'f4766': 67182.796875,\n",
       " 'f4852': 27099.0,\n",
       " 'f4853': 42201.0,\n",
       " 'f4863': 102972.0,\n",
       " 'f4865': 169116.5,\n",
       " 'f4870': 368138.65625,\n",
       " 'f4904': 38651.25,\n",
       " 'f4911': 79808.5,\n",
       " 'f5239': 37913.5}"
      ]
     },
     "execution_count": 27,
     "metadata": {},
     "output_type": "execute_result"
    }
   ],
   "source": [
    "models[4].get_score(importance_type='gain')"
   ]
  },
  {
   "cell_type": "code",
   "execution_count": 8,
   "id": "2c2842c8",
   "metadata": {},
   "outputs": [
    {
     "data": {
      "image/png": "[encoded data removed]",
      "text/plain": [
       "<Figure size 1080x1440 with 15 Axes>"
      ]
     },
     "metadata": {
      "needs_background": "light"
     },
     "output_type": "display_data"
    }
   ],
   "source": [
    "fig, ax = plt.subplots(nrows=5, ncols=3, figsize = (15, 20)) \n",
    "for i in range(3):\n",
    "    for j in range(5):\n",
    "        indx = j * 3 + i\n",
    "        if indx + 1 > len(models):\n",
    "            break\n",
    "        m = models[indx]\n",
    "        ax[j][i].stem(m.get_score(importance_type='gain').values(), markerfmt=' ')\n",
    "            "
   ]
  },
  {
   "cell_type": "code",
   "execution_count": 9,
   "id": "a89de26c",
   "metadata": {},
   "outputs": [],
   "source": [
    "import shap\n",
    "\n",
    "soynam = pd.read_csv('~/Desktop/soynam.csv', index_col='Unnamed: 0')\n",
    "soynam = soynam[soynam.height.notna()]\n",
    "#soynam_check = pd.read_csv('~/Desktop/soynam_check.csv', index_col='Unnamed: 0')\n",
    "gen = pd.read_csv('~/Desktop/gen.csv', index_col='Unnamed: 0').fillna(4.0)"
   ]
  },
  {
   "cell_type": "code",
   "execution_count": 10,
   "id": "263b3c83",
   "metadata": {},
   "outputs": [],
   "source": [
    "import xgboost \n",
    "#xgboost.DMatrix(gen.loc[soynam.strain], label=soynam.height)"
   ]
  },
  {
   "cell_type": "code",
   "execution_count": 11,
   "id": "cf5ed34e",
   "metadata": {},
   "outputs": [
    {
     "data": {
      "text/plain": [
       "array([[ 5.2645523e-04,  5.0139390e-03, -5.7963873e-03, ...,\n",
       "         0.0000000e+00,  0.0000000e+00,  0.0000000e+00],\n",
       "       [ 3.6270239e-03, -8.9747744e-05,  1.2596250e-03, ...,\n",
       "         0.0000000e+00,  0.0000000e+00,  0.0000000e+00],\n",
       "       [ 5.2645523e-04,  4.9781334e-03, -5.7963873e-03, ...,\n",
       "         0.0000000e+00,  0.0000000e+00,  0.0000000e+00],\n",
       "       ...,\n",
       "       [ 5.1315699e-05, -1.5699820e-03,  6.6591648e-04, ...,\n",
       "         0.0000000e+00,  0.0000000e+00,  0.0000000e+00],\n",
       "       [ 1.1418319e-04,  2.2541972e-04,  8.9821091e-04, ...,\n",
       "         0.0000000e+00,  0.0000000e+00,  0.0000000e+00],\n",
       "       [ 5.4605224e-04,  1.9735118e-05,  3.2658048e-04, ...,\n",
       "         0.0000000e+00,  0.0000000e+00,  0.0000000e+00]], dtype=float32)"
      ]
     },
     "execution_count": 11,
     "metadata": {},
     "output_type": "execute_result"
    }
   ],
   "source": [
    "explainer = shap.TreeExplainer(models[0])\n",
    "shv = explainer.shap_values(xgboost.DMatrix(gen.loc[soynam.strain], label=soynam.height))"
   ]
  },
  {
   "cell_type": "code",
   "execution_count": null,
   "id": "c17af654",
   "metadata": {},
   "outputs": [],
   "source": []
  },
  {
   "cell_type": "code",
   "execution_count": null,
   "id": "70229d26",
   "metadata": {},
   "outputs": [],
   "source": []
  },
  {
   "cell_type": "code",
   "execution_count": null,
   "id": "fe415667",
   "metadata": {},
   "outputs": [],
   "source": []
  },
  {
   "cell_type": "code",
   "execution_count": null,
   "id": "76884278",
   "metadata": {},
   "outputs": [],
   "source": []
  },
  {
   "cell_type": "code",
   "execution_count": null,
   "id": "e8a84064",
   "metadata": {},
   "outputs": [],
   "source": []
  },
  {
   "cell_type": "code",
   "execution_count": null,
   "id": "508c3a8e",
   "metadata": {},
   "outputs": [],
   "source": []
  },
  {
   "cell_type": "code",
   "execution_count": 59,
   "id": "028d8198",
   "metadata": {},
   "outputs": [],
   "source": [
    "ie3 = set.intersection(*[set(i[0][:5000]) for i in importances])"
   ]
  },
  {
   "cell_type": "code",
   "execution_count": 60,
   "id": "b2a250c2",
   "metadata": {},
   "outputs": [
    {
     "data": {
      "text/plain": [
       "35"
      ]
     },
     "execution_count": 60,
     "metadata": {},
     "output_type": "execute_result"
    }
   ],
   "source": [
    "len(ie3)"
   ]
  },
  {
   "cell_type": "code",
   "execution_count": 77,
   "id": "b7c3bef6",
   "metadata": {},
   "outputs": [
    {
     "data": {
      "text/plain": [
       "{'generic_param': {'fail_on_invalid_gpu_id': '0',\n",
       "  'gpu_id': '-1',\n",
       "  'n_jobs': '4',\n",
       "  'nthread': '4',\n",
       "  'random_state': '0',\n",
       "  'seed': '0',\n",
       "  'seed_per_iteration': '0',\n",
       "  'validate_parameters': '1'},\n",
       " 'gradient_booster': {'gbtree_train_param': {'num_parallel_tree': '1',\n",
       "   'predictor': 'auto',\n",
       "   'process_type': 'default',\n",
       "   'tree_method': 'auto',\n",
       "   'updater': 'grow_colmaker,prune',\n",
       "   'updater_seq': 'grow_colmaker,prune'},\n",
       "  'name': 'gbtree',\n",
       "  'specified_updater': False,\n",
       "  'updater': {'grow_colmaker': {'colmaker_train_param': {'opt_dense_col': '1'},\n",
       "    'train_param': {'alpha': '0',\n",
       "     'cache_opt': '1',\n",
       "     'colsample_bylevel': '1',\n",
       "     'colsample_bynode': '1',\n",
       "     'colsample_bytree': '1',\n",
       "     'default_direction': 'learn',\n",
       "     'eta': '0.300000012',\n",
       "     'gamma': '0',\n",
       "     'grow_policy': 'depthwise',\n",
       "     'interaction_constraints': '',\n",
       "     'lambda': '1',\n",
       "     'learning_rate': '0.300000012',\n",
       "     'max_bin': '256',\n",
       "     'max_conflict_rate': '0',\n",
       "     'max_delta_step': '0',\n",
       "     'max_depth': '6',\n",
       "     'max_leaves': '0',\n",
       "     'max_search_group': '100',\n",
       "     'min_child_weight': '1',\n",
       "     'min_split_loss': '0',\n",
       "     'monotone_constraints': '()',\n",
       "     'refresh_leaf': '1',\n",
       "     'reg_alpha': '0',\n",
       "     'reg_lambda': '1',\n",
       "     'sampling_method': 'uniform',\n",
       "     'sketch_eps': '0.0299999993',\n",
       "     'sketch_ratio': '2',\n",
       "     'sparse_threshold': '0.20000000000000001',\n",
       "     'split_evaluator': 'elastic_net,monotonic',\n",
       "     'subsample': '1'}},\n",
       "   'prune': {'train_param': {'alpha': '0',\n",
       "     'cache_opt': '1',\n",
       "     'colsample_bylevel': '1',\n",
       "     'colsample_bynode': '1',\n",
       "     'colsample_bytree': '1',\n",
       "     'default_direction': 'learn',\n",
       "     'eta': '0.300000012',\n",
       "     'gamma': '0',\n",
       "     'grow_policy': 'depthwise',\n",
       "     'interaction_constraints': '',\n",
       "     'lambda': '1',\n",
       "     'learning_rate': '0.300000012',\n",
       "     'max_bin': '256',\n",
       "     'max_conflict_rate': '0',\n",
       "     'max_delta_step': '0',\n",
       "     'max_depth': '6',\n",
       "     'max_leaves': '0',\n",
       "     'max_search_group': '100',\n",
       "     'min_child_weight': '1',\n",
       "     'min_split_loss': '0',\n",
       "     'monotone_constraints': '()',\n",
       "     'refresh_leaf': '1',\n",
       "     'reg_alpha': '0',\n",
       "     'reg_lambda': '1',\n",
       "     'sampling_method': 'uniform',\n",
       "     'sketch_eps': '0.0299999993',\n",
       "     'sketch_ratio': '2',\n",
       "     'sparse_threshold': '0.20000000000000001',\n",
       "     'split_evaluator': 'elastic_net,monotonic',\n",
       "     'subsample': '1'}}}},\n",
       " 'learner_model_param': {'base_score': '5E-1',\n",
       "  'num_class': '0',\n",
       "  'num_feature': '5305'},\n",
       " 'learner_train_param': {'booster': 'gbtree',\n",
       "  'disable_default_eval_metric': '0',\n",
       "  'dsplit': 'auto',\n",
       "  'objective': 'reg:squarederror'},\n",
       " 'metrics': [],\n",
       " 'objective': {'name': 'reg:squarederror',\n",
       "  'reg_loss_param': {'scale_pos_weight': '1'}}}"
      ]
     },
     "execution_count": 77,
     "metadata": {},
     "output_type": "execute_result"
    }
   ],
   "source": [
    "import json\n",
    "json.loads(models[0].save_config())['learner']"
   ]
  },
  {
   "cell_type": "code",
   "execution_count": null,
   "id": "f8f7fd2a",
   "metadata": {},
   "outputs": [],
   "source": [
    "params \n",
    "{'booster': 'gbtree',\n",
    " 'verbosity': 2,\n",
    " 'eta': 0.007060050427259946,\n",
    " 'gamma': 0.001,\n",
    " 'max_depth': 10,\n",
    " 'min_child_weight': 6,\n",
    " 'subsample': 1,\n",
    " 'colsample_bytree': 1,\n",
    " 'colsample_bylevel': 1,\n",
    " 'colsample_bynode': 1,\n",
    " 'grow_policy': 'lossguide'}"
   ]
  },
  {
   "cell_type": "code",
   "execution_count": null,
   "id": "acb1c679",
   "metadata": {},
   "outputs": [],
   "source": []
  },
  {
   "cell_type": "code",
   "execution_count": null,
   "id": "7fa87e2a",
   "metadata": {},
   "outputs": [],
   "source": []
  }
 ],
 "metadata": {
  "kernelspec": {
   "display_name": "Python 3 (ipykernel)",
   "language": "python",
   "name": "python3"
  },
  "language_info": {
   "codemirror_mode": {
    "name": "ipython",
    "version": 3
   },
   "file_extension": ".py",
   "mimetype": "text/x-python",
   "name": "python",
   "nbconvert_exporter": "python",
   "pygments_lexer": "ipython3",
   "version": "3.9.7"
  }
 },
 "nbformat": 4,
 "nbformat_minor": 5
}

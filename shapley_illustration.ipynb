{
 "cells": [
  {
   "cell_type": "code",
   "execution_count": 2,
   "id": "30ce7bcc",
   "metadata": {},
   "outputs": [],
   "source": [
    "import h5py \n",
    "import numpy as np \n",
    "import pandas as pd \n",
    "import xgboost\n",
    "from xgboost import XGBRegressor \n",
    "\n",
    "import pandas as pd\n",
    "import numpy as np\n",
    "from scipy.stats import maxwell\n",
    "from numpy.random import lognormal, normal\n",
    "\n",
    "from matplotlib import pyplot as plt \n",
    "from sklearn.metrics import mean_squared_error as mse\n",
    "\n",
    "\n",
    "import pandas as pd\n",
    "import shap\n",
    "import sklearn\n"
   ]
  },
  {
   "cell_type": "code",
   "execution_count": null,
   "id": "1daef3f6",
   "metadata": {},
   "outputs": [],
   "source": [
    "with h5py.File(\"Downloads/vigna-2021-v4-vqtl-all-utf-v2.h5\", \"r\") as f:\n",
    "    # List all groups\n",
    "    print(\"Keys: %s\" % f.keys())\n",
    "    keys = list(f.keys())\n",
    "    vigna = {k: list(f[k]) for k in keys}"
   ]
  },
  {
   "cell_type": "code",
   "execution_count": 6,
   "id": "0c26ec05",
   "metadata": {},
   "outputs": [],
   "source": [
    "names = [\"shapley_data_\" + str(i) for i in range(1, 8)]\n",
    "\n",
    "def read_file(name):\n",
    "    with h5py.File(name + \".h5\", \"r\") as f:\n",
    "    # List all groups\n",
    "        print(\"Keys: %s\" % f.keys())\n",
    "        keys = list(f.keys())\n",
    "        data = {k: list(f[k]) for k in keys}\n",
    "    return data"
   ]
  },
  {
   "cell_type": "code",
   "execution_count": 8,
   "id": "36001960",
   "metadata": {},
   "outputs": [
    {
     "name": "stdout",
     "output_type": "stream",
     "text": [
      "Keys: <KeysViewHDF5 ['base_values', 'data', 'values']>\n",
      "Keys: <KeysViewHDF5 ['base_values', 'data', 'values']>\n",
      "Keys: <KeysViewHDF5 ['base_values', 'data', 'values']>\n",
      "Keys: <KeysViewHDF5 ['base_values', 'data', 'values']>\n",
      "Keys: <KeysViewHDF5 ['base_values', 'data', 'values']>\n",
      "Keys: <KeysViewHDF5 ['base_values', 'data', 'values']>\n",
      "Keys: <KeysViewHDF5 ['base_values', 'data', 'values']>\n"
     ]
    }
   ],
   "source": [
    "shap_values = []\n",
    "for name in names:\n",
    "    shap_values.append(read_file(name))"
   ]
  },
  {
   "cell_type": "code",
   "execution_count": 16,
   "id": "ea12b0ae",
   "metadata": {},
   "outputs": [],
   "source": [
    "mean_abs = np.mean([np.abs(sh['values']) for sh in shap_values], axis = (1, 0))"
   ]
  },
  {
   "cell_type": "code",
   "execution_count": 32,
   "id": "0ca64f31",
   "metadata": {},
   "outputs": [
    {
     "data": {
      "image/png": "[encoded data removed]",
      "text/plain": [
       "<Figure size 720x432 with 1 Axes>"
      ]
     },
     "metadata": {
      "needs_background": "light"
     },
     "output_type": "display_data"
    }
   ],
   "source": [
    "plt.figure(figsize=(10, 6))\n",
    "plt.stem(sorted(mean_abs), markerfmt=' ')\n",
    "plt.hlines(0.25, 0, 267, linestyle=\"dashed\", color='black')\n",
    "#plt.gca().set_yticks([0.25])\n",
    "#plt.gca().set_yticklabels([\"Threshold\"])\n",
    "#plt.plot([0, 267], [0.25, 0.25])\n",
    "\n",
    "\n",
    "yt = plt.gca().get_yticks() \n",
    "yt=np.append(yt,0.25)\n",
    "\n",
    "ytl=yt.tolist()\n",
    "ytl[-1]=\"0.25\"\n",
    "\n",
    "plt.gca().set_yticks(yt)\n",
    "plt.gca().set_yticklabels(ytl)\n",
    "\n",
    "\n",
    "plt.savefig('shpley_1.jpeg')"
   ]
  }
 ],
 "metadata": {
  "kernelspec": {
   "display_name": "Python 3 (ipykernel)",
   "language": "python",
   "name": "python3"
  },
  "language_info": {
   "codemirror_mode": {
    "name": "ipython",
    "version": 3
   },
   "file_extension": ".py",
   "mimetype": "text/x-python",
   "name": "python",
   "nbconvert_exporter": "python",
   "pygments_lexer": "ipython3",
   "version": "3.8.12"
  }
 },
 "nbformat": 4,
 "nbformat_minor": 5
}

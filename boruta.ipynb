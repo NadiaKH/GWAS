{
 "cells": [
  {
   "cell_type": "code",
   "execution_count": 12,
   "id": "576f3f35",
   "metadata": {},
   "outputs": [],
   "source": [
    "import h5py \n",
    "import numpy as np \n",
    "import pandas as pd \n",
    "import xgboost\n",
    "from xgboost import XGBRegressor \n",
    "\n",
    "import pandas as pd\n",
    "import numpy as np\n",
    "from scipy.stats import maxwell\n",
    "from numpy.random import lognormal, normal\n",
    "\n",
    "from matplotlib import pyplot as plt \n",
    "from sklearn.metrics import mean_squared_error as mse\n",
    "\n",
    "\n",
    "import pandas as pd\n",
    "import shap\n",
    "import sklearn\n",
    "\n",
    "from sklearn.model_selection import train_test_split"
   ]
  },
  {
   "cell_type": "code",
   "execution_count": 62,
   "id": "bf3d298f",
   "metadata": {},
   "outputs": [],
   "source": [
    "#scores = model.get_booster().get_score(importance_type='gain')\n",
    "from collections import defaultdict\n",
    "def get_mean_importance_scores(boos):\n",
    "    d = defaultdict(float)\n",
    "    for b in boos:\n",
    "        scores = b.get_booster().get_score(importance_type='gain')\n",
    "        for k, v in scores.items():\n",
    "            d[k] = d[k] + v\n",
    "    for k in d:\n",
    "        d[k] /= len(boos)\n",
    "    return d\n",
    "\n",
    "\n",
    "def get_boruta_df(X):\n",
    "    rand_X = X.copy()\n",
    "\n",
    "    for c in X.columns:\n",
    "        rand_X[c] = np.random.permutation(X[c])\n",
    "    \n",
    "    rand_X.columns = ['rand_' + c for c in X.columns]\n",
    "    return pd.concat([X, rand_X], axis=1)\n",
    "\n",
    "\n",
    "def filter_features(d, cutoff=1.5, prefix='rand_'):\n",
    "    filtered = set()\n",
    "    for k in d:\n",
    "        if k.startswith(prefix):\n",
    "            continue\n",
    "        if d[k] * cutoff > d[prefix + k]:\n",
    "            filtered.add(k)\n",
    "    return filtered\n"
   ]
  },
  {
   "cell_type": "code",
   "execution_count": 13,
   "id": "de8e91bc",
   "metadata": {},
   "outputs": [
    {
     "name": "stdout",
     "output_type": "stream",
     "text": [
      "Keys: <KeysViewHDF5 ['doy', 'geo_id', 'gr_covar', 'gr_names', 'month', 'response_EM', 'response_R1', 'response_R3', 'response_R5', 'response_R7', 'response_R8', 'species', 'year']>\n"
     ]
    }
   ],
   "source": [
    "with h5py.File(\"Downloads/vigna-2021-v4-vqtl-all-utf-v2.h5\", \"r\") as f:\n",
    "    # List all groups\n",
    "    print(\"Keys: %s\" % f.keys())\n",
    "    keys = list(f.keys())\n",
    "    d = {k: list(f[k]) for k in keys}"
   ]
  },
  {
   "cell_type": "code",
   "execution_count": 20,
   "id": "8cb3eba5",
   "metadata": {},
   "outputs": [],
   "source": [
    "markers_v4 = pd.read_csv(\"Downloads/markers_filtered-v4.csv\", index_col='Unnamed: 0')\n",
    "minicore = pd.read_csv(\"Downloads/minicore_characterization.csv\")\n",
    "minicore[\"bVI no.\"] = [bytes(m.replace('\\t', ''), 'utf-8') for m in minicore[\"VI no.\"]]\n",
    "idx_minicore = minicore.set_index(\"bVI no.\")\n",
    "\n",
    "\n",
    "no = []\n",
    "\n",
    "for s in d['species']:\n",
    "    if s in idx_minicore.index:\n",
    "        no.append(str(idx_minicore['No.'][s]))\n",
    "    else:\n",
    "        no.append(None)\n",
    "        \n",
    "        \n",
    "\n",
    "\n",
    "no = np.array(no)\n",
    "response = np.array([m[0] for m in d[\"response_R1\"]])\n",
    "\n",
    "data = pd.DataFrame(np.array([no[no != None], response[no != None]]).T\n",
    "                    , columns = ['No.', 'response_R1'])\n",
    "\n",
    "\n",
    "X = markers_v4.loc[data[\"No.\"]]\n",
    "y = data.response_R1\n",
    "X.index = np.arange(0, 1301)"
   ]
  },
  {
   "cell_type": "code",
   "execution_count": 58,
   "id": "4abadd5a",
   "metadata": {},
   "outputs": [],
   "source": []
  },
  {
   "cell_type": "code",
   "execution_count": 36,
   "id": "04022561",
   "metadata": {},
   "outputs": [],
   "source": [
    "xgb = XGBRegressor(base_score=0.5, booster='gbtree', colsample_bylevel=1,\n",
    "       colsample_bynode=1, colsample_bytree=1, gamma=0,\n",
    "       importance_type='gain', learning_rate=0.01, max_delta_step=0,\n",
    "       max_depth=10, min_child_weight=5, missing=1, n_estimators=200,\n",
    "       n_jobs=1, nthread=None, objective='reg:squarederror', random_state=0,\n",
    "       reg_alpha=0, reg_lambda=1, scale_pos_weight=1, seed=None,\n",
    "       silent=None, subsample=1, verbosity=1)"
   ]
  },
  {
   "cell_type": "code",
   "execution_count": 39,
   "id": "a4329d55",
   "metadata": {},
   "outputs": [
    {
     "name": "stdout",
     "output_type": "stream",
     "text": [
      ".........."
     ]
    }
   ],
   "source": [
    "boos = []\n",
    "for i in range(10):\n",
    "    boos.append(xgb.fit(get_boruta_df(X), y))\n",
    "    print('.', end='')"
   ]
  },
  {
   "cell_type": "code",
   "execution_count": 63,
   "id": "93ece1af",
   "metadata": {},
   "outputs": [],
   "source": [
    "d = get_mean_importance_scores(boos)\n",
    "fd = filter_features(d, cutoff=1.5, prefix='rand_')"
   ]
  },
  {
   "cell_type": "code",
   "execution_count": 69,
   "id": "4082a5be",
   "metadata": {},
   "outputs": [
    {
     "name": "stdout",
     "output_type": "stream",
     "text": [
      ".........."
     ]
    }
   ],
   "source": [
    "boos1 = []\n",
    "for i in range(10):\n",
    "    boos1.append(xgb.fit(get_boruta_df(X[fd]), y))\n",
    "    print('.', end='')\n"
   ]
  },
  {
   "cell_type": "code",
   "execution_count": 73,
   "id": "bf01502b",
   "metadata": {},
   "outputs": [
    {
     "data": {
      "text/plain": [
       "83"
      ]
     },
     "execution_count": 73,
     "metadata": {},
     "output_type": "execute_result"
    }
   ],
   "source": [
    "d1 = get_mean_importance_scores(boos1)\n",
    "fd1 = filter_features(d1, cutoff=1.5, prefix='rand_')"
   ]
  },
  {
   "cell_type": "code",
   "execution_count": 74,
   "id": "09e3ef47",
   "metadata": {},
   "outputs": [
    {
     "name": "stdout",
     "output_type": "stream",
     "text": [
      ".........."
     ]
    }
   ],
   "source": [
    "boos2 = []\n",
    "for i in range(10):\n",
    "    boos2.append(xgb.fit(get_boruta_df(X[fd1]), y))\n",
    "    print('.', end='')"
   ]
  },
  {
   "cell_type": "code",
   "execution_count": 75,
   "id": "c14cfe12",
   "metadata": {},
   "outputs": [],
   "source": [
    "d2 = get_mean_importance_scores(boos2)\n",
    "fd2 = filter_features(d2, cutoff=1.5, prefix='rand_')"
   ]
  },
  {
   "cell_type": "code",
   "execution_count": 77,
   "id": "4d3d1a1b",
   "metadata": {},
   "outputs": [
    {
     "name": "stdout",
     "output_type": "stream",
     "text": [
      ".........."
     ]
    }
   ],
   "source": [
    "boos3 = []\n",
    "for i in range(10):\n",
    "    boos3.append(xgb.fit(get_boruta_df(X[fd2]), y))\n",
    "    print('.', end='')"
   ]
  },
  {
   "cell_type": "code",
   "execution_count": 78,
   "id": "d55eb1e1",
   "metadata": {},
   "outputs": [],
   "source": [
    "d3 = get_mean_importance_scores(boos3)\n",
    "fd3 = filter_features(d3, cutoff=1.5, prefix='rand_')"
   ]
  },
  {
   "cell_type": "code",
   "execution_count": 80,
   "id": "4a418feb",
   "metadata": {},
   "outputs": [
    {
     "name": "stdout",
     "output_type": "stream",
     "text": [
      ".........."
     ]
    }
   ],
   "source": [
    "boos4 = []\n",
    "for i in range(10):\n",
    "    boos4.append(xgb.fit(get_boruta_df(X[fd3]), y))\n",
    "    print('.', end='')"
   ]
  },
  {
   "cell_type": "code",
   "execution_count": 81,
   "id": "268fc175",
   "metadata": {},
   "outputs": [],
   "source": [
    "d4 = get_mean_importance_scores(boos4)\n",
    "fd4 = filter_features(d4, cutoff=1.5, prefix='rand_')"
   ]
  },
  {
   "cell_type": "code",
   "execution_count": 83,
   "id": "2ba94363",
   "metadata": {},
   "outputs": [
    {
     "name": "stdout",
     "output_type": "stream",
     "text": [
      ".........."
     ]
    }
   ],
   "source": [
    "boos5 = []\n",
    "for i in range(10):\n",
    "    boos5.append(xgb.fit(get_boruta_df(X[fd4]), y))\n",
    "    print('.', end='')"
   ]
  },
  {
   "cell_type": "code",
   "execution_count": 85,
   "id": "45ca290d",
   "metadata": {},
   "outputs": [
    {
     "data": {
      "text/plain": [
       "29"
      ]
     },
     "execution_count": 85,
     "metadata": {},
     "output_type": "execute_result"
    }
   ],
   "source": [
    "d5 = get_mean_importance_scores(boos5)\n",
    "fd5 = filter_features(d5, cutoff=1.5, prefix='rand_')"
   ]
  },
  {
   "cell_type": "code",
   "execution_count": 86,
   "id": "f030f7b3",
   "metadata": {},
   "outputs": [
    {
     "name": "stdout",
     "output_type": "stream",
     "text": [
      ".........."
     ]
    }
   ],
   "source": [
    "boos6 = []\n",
    "for i in range(10):\n",
    "    boos6.append(xgb.fit(get_boruta_df(X[fd5]), y))\n",
    "    print('.', end='')"
   ]
  },
  {
   "cell_type": "code",
   "execution_count": 87,
   "id": "7664623f",
   "metadata": {},
   "outputs": [],
   "source": [
    "d6 = get_mean_importance_scores(boos6)\n",
    "fd6 = filter_features(d6, cutoff=1.5, prefix='rand_')"
   ]
  },
  {
   "cell_type": "code",
   "execution_count": 90,
   "id": "db024996",
   "metadata": {},
   "outputs": [
    {
     "name": "stdout",
     "output_type": "stream",
     "text": [
      ".........."
     ]
    }
   ],
   "source": [
    "boos7 = []\n",
    "for i in range(10):\n",
    "    boos7.append(xgb.fit(get_boruta_df(X[fd6]), y))\n",
    "    print('.', end='')"
   ]
  },
  {
   "cell_type": "code",
   "execution_count": 92,
   "id": "2e92b7e2",
   "metadata": {},
   "outputs": [],
   "source": [
    "d7 = get_mean_importance_scores(boos7)\n",
    "fd7 = filter_features(d7, cutoff=1.5, prefix='rand_')"
   ]
  },
  {
   "cell_type": "code",
   "execution_count": 94,
   "id": "bd18fb03",
   "metadata": {},
   "outputs": [
    {
     "data": {
      "text/plain": [
       "{'NC_028351.1_25184857_G_A',\n",
       " 'NC_028351.1_6653772_G_A',\n",
       " 'NC_028352.1_1084989_T_G',\n",
       " 'NC_028352.1_21084823_T_C',\n",
       " 'NC_028353.1_10441671_G_A',\n",
       " 'NC_028353.1_7392850_G_C',\n",
       " 'NC_028353.1_9642796_C_T',\n",
       " 'NC_028354.1_16399877_G_A',\n",
       " 'NC_028354.1_3627955_T_C',\n",
       " 'NC_028354.1_5069290_T_A',\n",
       " 'NC_028355.1_4713664_G_A',\n",
       " 'NC_028356.1_2380766_G_T',\n",
       " 'NC_028356.1_25365321_T_G',\n",
       " 'NC_028356.1_543071_T_C',\n",
       " 'NC_028357.1_51263619_T_A',\n",
       " 'NC_028358.1_31321418_G_C',\n",
       " 'NC_028358.1_31436226_G_A',\n",
       " 'NC_028358.1_4599500_T_C',\n",
       " 'NC_028359.1_10025709_C_T',\n",
       " 'NC_028359.1_13497212_G_A',\n",
       " 'NC_028359.1_13555726_C_G',\n",
       " 'NC_028361.1_12744511_A_C',\n",
       " 'NC_028361.1_8752639_A_G',\n",
       " 'NC_028361.1_8933489_A_G',\n",
       " 'NW_014542557.1_42048_G_C',\n",
       " 'NW_014543432.1_144127_G_A'}"
      ]
     },
     "execution_count": 94,
     "metadata": {},
     "output_type": "execute_result"
    }
   ],
   "source": [
    "fd7"
   ]
  }
 ],
 "metadata": {
  "kernelspec": {
   "display_name": "Python 3 (ipykernel)",
   "language": "python",
   "name": "python3"
  },
  "language_info": {
   "codemirror_mode": {
    "name": "ipython",
    "version": 3
   },
   "file_extension": ".py",
   "mimetype": "text/x-python",
   "name": "python",
   "nbconvert_exporter": "python",
   "pygments_lexer": "ipython3",
   "version": "3.8.12"
  }
 },
 "nbformat": 4,
 "nbformat_minor": 5
}
